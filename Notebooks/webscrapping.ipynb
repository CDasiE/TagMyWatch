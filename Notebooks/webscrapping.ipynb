{
 "cells": [
  {
   "cell_type": "code",
   "execution_count": null,
   "id": "60265ebd-0a7c-4be0-80f0-87d19513f4fb",
   "metadata": {},
   "outputs": [],
   "source": [
    "import requests\n",
    "from time import sleep, strftime\n",
    "import random\n",
    "from random import randint\n",
    "from bs4 import BeautifulSoup\n",
    "from selenium import webdriver\n",
    "import pandas as pd\n",
    "import pickle"
   ]
  },
  {
   "cell_type": "markdown",
   "id": "539b7935-7c60-48c1-928d-8c42d56ea15e",
   "metadata": {},
   "source": [
    "#### CÓDIGO PARA SCRAPPEAR LAS IMÁGENES DE CHRONO24"
   ]
  },
  {
   "cell_type": "code",
   "execution_count": null,
   "id": "23cc0f50-7a89-4d76-964b-aa66b32f9b39",
   "metadata": {},
   "outputs": [],
   "source": [
    "for x in range(31,33):\n",
    "    contador=0\n",
    "    rolex_subm=requests.get('https://www.chrono24.es/rolex/submariner-date--mod981-'+str(x)+'.htm?query=Rolex+Submariner+Date',headers={'User-Agent': 'Chrome/91.0.4472.124'},proxies=proxies)\n",
    "    print(rolex_subm)\n",
    "    web_rolex_subm = BeautifulSoup(rolex_subm.text, \"html.parser\") \n",
    "    lista=[]\n",
    "    for x in web_rolex_subm.find_all('a'):\n",
    "        if '/rolex/rolex-submariner' in x['href']:\n",
    "            lista.append('https://www.chrono24.es/'+x['href'])\n",
    "    imagenes=[]\n",
    "    for x in range(len(lista)):\n",
    "        rolex_model=requests.get(lista[x],headers={'User-Agent': 'Chrome/91.0.4472.124'},proxies=proxies)\n",
    "        web_rolex_model = BeautifulSoup(rolex_model.text, \"html.parser\") \n",
    "        model_imagenes=web_rolex_model.find('section',class_=\"data m-b-7 m-b-md-9\")\n",
    "        m_img=model_imagenes.find_all('div',class_=\"watch-image-carousel-image content image-container bg-center-center bg-no-repeat\")\n",
    "        for x in m_img:\n",
    "            x=str(x)\n",
    "            start=x.find(\"(\")\n",
    "            end=x.find(\")\",start)\n",
    "            result=x[start+2:end-1]\n",
    "            imagenes.append(result)\n",
    "    for i,x in enumerate(imagenes):\n",
    "        print(x)\n",
    "        j=x[40:74]\n",
    "        response = requests.get(x,headers={'User-Agent': 'Chrome/91.0.4472.124'},proxies=proxies)\n",
    "        with open('C:/Users/crist/BOOTCAMP/PROYECTO FINAL/imagenes/rolex_submariner/'+j+'.jpg', 'wb') as file:\n",
    "            file.write(response.content)"
   ]
  },
  {
   "cell_type": "markdown",
   "id": "cdd05a74-aa12-48a7-bec2-655f022e9504",
   "metadata": {},
   "source": [
    "#### CÓDIGO PARA DESCARGAR LOS DATOS DE LOS MODELOS DE CHRONO24 (POR EJEMPLO ROLEX)"
   ]
  },
  {
   "cell_type": "code",
   "execution_count": null,
   "id": "daf1e94d-14af-4ba2-9352-6193226e5c28",
   "metadata": {},
   "outputs": [],
   "source": [
    "lista_rolex=[]\n",
    "for i in range(1,55):\n",
    "    url_rolex=[]\n",
    "    respuesta_rolex = requests.get(\"https://www.chrono24.es/rolex/index-\"+ str(i) + \".htm\", headers={'User-Agent': 'Chrome/91.0.4472.124'})\n",
    "    print(i,respuesta_rolex)\n",
    "    sopa_rolex = BeautifulSoup(respuesta_rolex.text, \"html.parser\")\n",
    "    for x in sopa_rolex.find_all('a'):\n",
    "        if '/rolex/rolex-' in x['href']:\n",
    "            url_rolex.append('https://www.chrono24.es/'+x['href'])\n",
    "    for url in url_rolex:\n",
    "        caracteristicas_rolex=[]\n",
    "        respuesta_reloj = requests.get(url,headers={'User-Agent': 'Chrome/91.0.4472.124'})\n",
    "        print(url,respuesta_reloj)\n",
    "        sopa_reloj = BeautifulSoup(respuesta_reloj.text, \"html.parser\")\n",
    "        for i in sopa_reloj.find_all('td'):\n",
    "            caracteristicas_rolex.append(i.text)\n",
    "        lista_rolex.append(caracteristicas_rolex)"
   ]
  },
  {
   "cell_type": "markdown",
   "id": "025fada7-1f51-45b1-ad90-0bdf1a11ea7c",
   "metadata": {},
   "source": [
    "#### GUARDAMOS LA LISTA EN UN PICKLE PARA DESPUÉS APLICARLE LA FUNCIÓN DE TRATAMIENTO DE WEBSCRAPPING"
   ]
  },
  {
   "cell_type": "code",
   "execution_count": null,
   "id": "6fbac3fc-148f-4bf5-a5c7-adf5b1d05fd0",
   "metadata": {},
   "outputs": [],
   "source": [
    "fh = open(\"lista_rolex.pkl\",\"wb\")\n",
    "pickle.dump(lista_rolex,fh)\n",
    "fh.close()"
   ]
  }
 ],
 "metadata": {
  "kernelspec": {
   "display_name": "Python 3 (ipykernel)",
   "language": "python",
   "name": "python3"
  },
  "language_info": {
   "codemirror_mode": {
    "name": "ipython",
    "version": 3
   },
   "file_extension": ".py",
   "mimetype": "text/x-python",
   "name": "python",
   "nbconvert_exporter": "python",
   "pygments_lexer": "ipython3",
   "version": "3.9.12"
  }
 },
 "nbformat": 4,
 "nbformat_minor": 5
}
