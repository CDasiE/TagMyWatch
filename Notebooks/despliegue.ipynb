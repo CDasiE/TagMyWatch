{
 "cells": [
  {
   "cell_type": "code",
   "execution_count": 10,
   "id": "304799ed-f0b8-4589-bab3-769f23931fcc",
   "metadata": {
    "tags": []
   },
   "outputs": [],
   "source": [
    "import pickle\n",
    "import numpy as np\n",
    "import keras\n",
    "from keras import models\n",
    "from keras import layers\n",
    "import cv2\n",
    "import matplotlib.pyplot as plt\n",
    "import gradio as gr\n",
    "import warnings\n",
    "warnings.filterwarnings(\"ignore\")"
   ]
  },
  {
   "cell_type": "markdown",
   "id": "d9a17f7e-28cd-4f09-94e4-ba3bd7ed3055",
   "metadata": {},
   "source": [
    "### Cargamos ambos modelos (Regresión y Redes Neuronales)"
   ]
  },
  {
   "cell_type": "code",
   "execution_count": 11,
   "id": "ef2072c1-f044-47eb-aed9-6ad34e6016e1",
   "metadata": {},
   "outputs": [],
   "source": [
    "modelo = pickle.load(open(\"modelo_xgboost.pkl\", 'rb'))"
   ]
  },
  {
   "cell_type": "code",
   "execution_count": 12,
   "id": "3b1fa208-abb7-44f4-84eb-024e4f1f3e43",
   "metadata": {},
   "outputs": [],
   "source": [
    "red = keras.models.load_model(\"modelo final save\")"
   ]
  },
  {
   "cell_type": "markdown",
   "id": "1f9154bb-3832-4a50-ab8e-290744d622dd",
   "metadata": {},
   "source": [
    "### Función para el modelo de regresión (XGBoost)"
   ]
  },
  {
   "cell_type": "code",
   "execution_count": 13,
   "id": "acf9f933-b429-4a3f-ae50-9d796142bf38",
   "metadata": {},
   "outputs": [],
   "source": [
    "def usuario(registro):\n",
    "    marca = ['Cartier', 'Casio', 'Hamilton', 'Hublot',\n",
    "       'Omega', 'Patek Philippe', 'Richard Mille',\n",
    "       'Rolex', 'Seiko', 'Tissot']\n",
    "    materialCierre = ['Acero', 'Acero y oro',\n",
    "           'Aluminio', 'Bronce',\n",
    "           'Carbono', 'Cerámica',\n",
    "           'Oro amarillo', 'Oro blanco',\n",
    "           'Oro rojo', 'Oro rosa',\n",
    "           'Paladio', 'Plata',\n",
    "           'Platino', 'Plástico',\n",
    "           'Titanio', 'Tántalo']\n",
    "\n",
    "    contenidoEntrega = [ 'Con documentos originales, sin estuche original',\n",
    "           'Con estuche original, con documentos originales',\n",
    "           'Con estuche original, sin documentos originales',\n",
    "           'Sin estuche original, sin documentos originales',]\n",
    "    tipoCalibre = ['Automático', 'Cuarzo',\n",
    "           'Cuerda manual']\n",
    "    materialCaja = ['Acero',\n",
    "           'Acero y oro', 'Aluminio',\n",
    "           'Bronce', 'Carbono',\n",
    "           'Cerámica', 'Oro amarillo',\n",
    "           'Oro blanco', 'Oro rojo',\n",
    "           'Oro rosa', 'Paladio',\n",
    "           'Plata', 'Platino',\n",
    "           'Plástico', 'Titanio',\n",
    "           'Tántalo']\n",
    "    estado = ['Bueno                     (Señales ligeras hasta notables de uso o arañazos)',\n",
    "           'Defectuoso                     (Señales evidentes de uso o arañazos)',\n",
    "           'Muy bueno                     (Usado, sin o casi sin señales de uso)',\n",
    "           'Nuevo                     (Totalmente nuevo (de fabrica) sin señales de uso)',\n",
    "           'Satisfactorio                     (Señales notables de uso o arañazos)',\n",
    "           'Sin usar                     (Nuevo de un stock antiguo, sin señales de uso)']\n",
    "    materialPulsera = ['Acero', 'Acero y oro',\n",
    "           'Aluminio', 'Carbono',\n",
    "           'Caucho', 'Cerámica',\n",
    "           'Oro amarillo',\n",
    "           'Oro blanco', 'Oro rojo',\n",
    "           'Oro rosa', 'Piel',\n",
    "           'Piel de aligátor',\n",
    "           'Piel de avestruz',\n",
    "           'Piel de lagarto',\n",
    "           'Piel de serpiente',\n",
    "           'Piel de tiburon',\n",
    "           'Piel de vaca', 'Plata',\n",
    "           'Platino', 'Plástico',\n",
    "           'Satén', 'Silicona',\n",
    "           'Textil', 'Titanio',]\n",
    "    esfera = ['Amarillo', 'Azul', 'Blanco', 'Bronce',\n",
    "           'Burdeos', 'Champán', 'Gris', 'Madreperla',\n",
    "           'Marrón', 'Naranja', 'Negro', 'Oro',\n",
    "           'Oro (macizo)', 'Plata', 'Plata (maciza)',\n",
    "           'Rojo', 'Rosa', 'Transparente', 'Verde',\n",
    "           'Violeta']\n",
    "    \n",
    "    listOfLists=[marca, materialCierre, contenidoEntrega, tipoCalibre, materialCaja, estado, materialPulsera, esfera]\n",
    "    \n",
    "    copyRegistro = registro.copy()\n",
    "    finalArray = np.array(copyRegistro[0][0:4]) # Inicializo el array con los 4 primeros elementos (numéricos)\n",
    "    deleteC = np.delete(copyRegistro,0)\n",
    "    deleteC = np.delete(deleteC,0)\n",
    "    deleteC = np.delete(deleteC,0)\n",
    "    deleteC = np.delete(deleteC,0) # deleteC es el nuevo array solo con los categóricos\n",
    "    for i in range(len(listOfLists)):\n",
    "        ar = np.zeros(len(listOfLists[i]))\n",
    "        if deleteC[i] in listOfLists[i]: # Añado esta condición para que busque si existe y aplique\n",
    "            index = listOfLists[i].index(deleteC[i])\n",
    "    \n",
    "            ar[index] = 1\n",
    "        \n",
    "        finalArray = np.concatenate((finalArray, ar))\n",
    "        \n",
    "\n",
    "    finalArray = finalArray.reshape(1,103)\n",
    "    \n",
    "    precio= modelo.predict(finalArray)\n",
    "    \n",
    "    return precio"
   ]
  },
  {
   "cell_type": "markdown",
   "id": "2454d6e3-c30a-45e8-8b67-069c2c71557a",
   "metadata": {},
   "source": [
    "### Función para el modelo de Redes Neuronales"
   ]
  },
  {
   "cell_type": "code",
   "execution_count": 14,
   "id": "12345503-bad0-4046-af97-3058e7587964",
   "metadata": {},
   "outputs": [],
   "source": [
    "def imagen(img):\n",
    "    img = np.array(img)\n",
    "    ok=cv2.resize(img,(200,200))\n",
    "    gray=cv2.cvtColor(ok,cv2.COLOR_BGR2GRAY)\n",
    "    gray_3d = np.expand_dims(gray, axis=2)\n",
    "    gray_3d = np.repeat(gray_3d,3, axis=2)\n",
    "    relojes = [\"Cartier Santos\",\"Hublot Big Bang\",\"Omega SpeedMaster\",\"Patek Philippe Nautilus\",\"Rolex Submariner\"]\n",
    "    predict=red.predict(gray_3d.reshape((1,200,200,3)))\n",
    "    \n",
    "    abc = np.argmax(predict)  \n",
    "    if abc == 0:\n",
    "        return \"Su reloj es un Cartier Santos\"\n",
    "    elif abc == 1:\n",
    "        return \"Su reloj es un Hublot Big Bang\"\n",
    "    elif abc == 2:\n",
    "        return \"Su reloj es un Omega SpeedMaster\"\n",
    "    elif abc ==3:\n",
    "        return \"Su reloj es un Patek Philippe Nautilus\"\n",
    "    elif abc ==4:\n",
    "        return \"Su reloj es un Rolex Submariner\"\n",
    "    "
   ]
  },
  {
   "cell_type": "markdown",
   "id": "4a4ba34e-af98-47ac-96b5-4b90fc81fe9e",
   "metadata": {},
   "source": [
    "### DEMO DE NUESTRO DESPLIEGUE"
   ]
  },
  {
   "cell_type": "code",
   "execution_count": 21,
   "id": "262bd98f-2e82-4b80-813b-466acfcb02f4",
   "metadata": {},
   "outputs": [],
   "source": [
    "def greet(Marca,Cierre,Calibre,Entrega,Caja,Estado,Pulsera,Esfera,Perímetro,Reserva_de_marcha,Joyas,Resistencia_al_agua):\n",
    "    prueba = np.array([[Perímetro,Joyas,Reserva_de_marcha,Resistencia_al_agua,Marca,Cierre,Entrega,Calibre,Caja,Estado,Pulsera,Esfera]], dtype = object) \n",
    "    precio = str(int(usuario(prueba)[0].round(0)))\n",
    "    return \"Su reloj tiene un precio estimado de \" + precio + \"€\"\n",
    "\n",
    "\n",
    "valor = gr.Interface(greet,[gr.Dropdown(['Cartier', 'Casio', 'Hamilton', 'Hublot',\n",
    "       'Omega', 'Patek Philippe', 'Richard Mille',\n",
    "       'Rolex', 'Seiko', 'Tissot']),gr.Dropdown(['Acero', 'Acero y oro',\n",
    "        'Aluminio', 'Bronce',\n",
    "           'Carbono', 'Cerámica',\n",
    "           'Oro amarillo', 'Oro blanco',\n",
    "           'Oro rojo', 'Oro rosa',\n",
    "           'Paladio', 'Plata',\n",
    "           'Platino', 'Plástico',\n",
    "           'Titanio', 'Tántalo']),gr.Radio(['Automático', 'Cuarzo',\n",
    "           'Cuerda manual']),gr.Dropdown([ 'Con documentos originales, sin estuche original',\n",
    "           'Con estuche original, con documentos originales',\n",
    "           'Con estuche original, sin documentos originales',\n",
    "           'Sin estuche original, sin documentos originales',]),gr.Dropdown(['Acero',\n",
    "           'Acero y oro', 'Aluminio',\n",
    "           'Bronce', 'Carbono',\n",
    "           'Cerámica', 'Oro amarillo',\n",
    "           'Oro blanco', 'Oro rojo',\n",
    "           'Oro rosa', 'Paladio',\n",
    "           'Plata', 'Platino',\n",
    "           'Plástico', 'Titanio',\n",
    "           'Tántalo']),gr.Dropdown(['Bueno                     (Señales ligeras hasta notables de uso o arañazos)',\n",
    "           'Defectuoso                     (Señales evidentes de uso o arañazos)',\n",
    "           'Muy bueno                     (Usado, sin o casi sin señales de uso)',\n",
    "           'Nuevo                     (Totalmente nuevo (de fabrica) sin señales de uso)',\n",
    "           'Satisfactorio                     (Señales notables de uso o arañazos)',\n",
    "           'Sin usar                     (Nuevo de un stock antiguo, sin señales de uso)']), gr.Dropdown(['Acero', 'Acero y oro',\n",
    "           'Aluminio', 'Carbono',\n",
    "           'Caucho', 'Cerámica',\n",
    "           'Oro amarillo',\n",
    "           'Oro blanco', 'Oro rojo',\n",
    "           'Oro rosa', 'Piel',\n",
    "           'Piel de aligátor',\n",
    "           'Piel de avestruz',\n",
    "           'Piel de lagarto',\n",
    "           'Piel de serpiente',\n",
    "           'Piel de tiburon',\n",
    "           'Piel de vaca', 'Plata',\n",
    "           'Platino', 'Plástico',\n",
    "           'Satén', 'Silicona',\n",
    "           'Textil', 'Titanio']),gr.Dropdown(['Amarillo', 'Azul', 'Blanco', 'Bronce',\n",
    "           'Burdeos', 'Champán', 'Gris', 'Madreperla',\n",
    "           'Marrón', 'Naranja', 'Negro', 'Oro',\n",
    "           'Oro (macizo)', 'Plata', 'Plata (maciza)',\n",
    "           'Rojo', 'Rosa', 'Transparente', 'Verde',\n",
    "           'Violeta']),gr.Slider(80,300,value=190), gr.Slider(0,400,value=200,label=\"Reserva de marcha\"), gr.Slider(0,120,value=60),\n",
    "                           gr.Slider(0,150,value=75,label=\"Resistencia al agua\")], outputs =gr.Label(label=\"Esta será su predicción\"), \n",
    "   \n",
    "                    css=\"body {background-image: url('https://i.pinimg.com/originals/9b/ff/38/9bff3810a2423dfb55eb15e49d043e72.jpg')}\",\n",
    "                    title=\"TagMyWatch ⌚💶\")\n",
    "\n",
    "clasificador = gr.Interface(imagen,gr.Image(type=\"pil\"), outputs =gr.Label(label=\"Este será su reloj\"),\n",
    "                     css=\"body {background-image: url('https://i.pinimg.com/originals/9b/ff/38/9bff3810a2423dfb55eb15e49d043e72.jpg')}\",\n",
    "                           title=\"TagMyWatch ⌚💶\")\n",
    "\n",
    "demo=gr.TabbedInterface([clasificador,valor],['Conoce tu modelo','Valora tu reloj'])\n"
   ]
  },
  {
   "cell_type": "code",
   "execution_count": 22,
   "id": "8689950c-a72b-4b37-b101-8515ec6affbe",
   "metadata": {},
   "outputs": [
    {
     "name": "stdout",
     "output_type": "stream",
     "text": [
      "Running on local URL:  http://127.0.0.1:7865\n",
      "\n",
      "To create a public link, set `share=True` in `launch()`.\n"
     ]
    },
    {
     "data": {
      "text/html": [
       "<div><iframe src=\"http://127.0.0.1:7865/\" width=\"100%\" height=\"500\" allow=\"autoplay; camera; microphone; clipboard-read; clipboard-write;\" frameborder=\"0\" allowfullscreen></iframe></div>"
      ],
      "text/plain": [
       "<IPython.core.display.HTML object>"
      ]
     },
     "metadata": {},
     "output_type": "display_data"
    },
    {
     "data": {
      "text/plain": []
     },
     "execution_count": 22,
     "metadata": {},
     "output_type": "execute_result"
    },
    {
     "name": "stdout",
     "output_type": "stream",
     "text": [
      "1/1 [==============================] - 0s 117ms/step\n",
      "1/1 [==============================] - 0s 113ms/step\n",
      "1/1 [==============================] - 0s 151ms/step\n",
      "1/1 [==============================] - 0s 110ms/step\n",
      "1/1 [==============================] - 0s 98ms/step\n",
      "1/1 [==============================] - 0s 154ms/step\n",
      "1/1 [==============================] - 0s 123ms/step\n",
      "1/1 [==============================] - 0s 223ms/step\n",
      "1/1 [==============================] - 0s 209ms/step\n"
     ]
    }
   ],
   "source": [
    "demo.launch()"
   ]
  }
 ],
 "metadata": {
  "kernelspec": {
   "display_name": "Python 3 (ipykernel)",
   "language": "python",
   "name": "python3"
  },
  "language_info": {
   "codemirror_mode": {
    "name": "ipython",
    "version": 3
   },
   "file_extension": ".py",
   "mimetype": "text/x-python",
   "name": "python",
   "nbconvert_exporter": "python",
   "pygments_lexer": "ipython3",
   "version": "3.9.12"
  }
 },
 "nbformat": 4,
 "nbformat_minor": 5
}
